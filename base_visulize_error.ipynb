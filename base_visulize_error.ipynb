{
 "cells": [
  {
   "cell_type": "markdown",
   "metadata": {},
   "source": [
    "# BASE TRAINING "
   ]
  },
  {
   "cell_type": "markdown",
   "metadata": {},
   "source": [
    "# PART 1: Load and arange data"
   ]
  },
  {
   "cell_type": "code",
   "execution_count": 1,
   "metadata": {},
   "outputs": [],
   "source": [
    "import numpy as np\n",
    "import matplotlib.pyplot as plt"
   ]
  },
  {
   "cell_type": "code",
   "execution_count": 2,
   "metadata": {},
   "outputs": [],
   "source": [
    "data = np.load('base_dcrnn_predictions.npz')\n"
   ]
  },
  {
   "cell_type": "code",
   "execution_count": 3,
   "metadata": {},
   "outputs": [
    {
     "data": {
      "text/plain": [
       "['predictions', 'groundtruth']"
      ]
     },
     "execution_count": 3,
     "metadata": {},
     "output_type": "execute_result"
    }
   ],
   "source": [
    "data.files"
   ]
  },
  {
   "cell_type": "code",
   "execution_count": 4,
   "metadata": {},
   "outputs": [],
   "source": [
    "pred = data['predictions']\n",
    "label = data['groundtruth']\n"
   ]
  },
  {
   "cell_type": "code",
   "execution_count": 5,
   "metadata": {},
   "outputs": [
    {
     "data": {
      "text/plain": [
       "(array([[71.537796, 58.615555, 62.215206, ..., 69.57132 , 70.494934,\n",
       "         67.71421 ],\n",
       "        [71.31776 , 62.339912, 63.151657, ..., 69.482735, 70.24104 ,\n",
       "         67.90431 ],\n",
       "        [70.74719 , 63.441193, 63.833023, ..., 69.72403 , 70.015045,\n",
       "         67.32322 ],\n",
       "        ...,\n",
       "        [71.07137 , 65.89587 , 66.96815 , ..., 68.43725 , 71.236176,\n",
       "         68.510635],\n",
       "        [70.95236 , 65.870834, 66.701225, ..., 68.47581 , 71.36653 ,\n",
       "         68.37483 ],\n",
       "        [71.05352 , 65.84241 , 66.93939 , ..., 68.38671 , 71.35695 ,\n",
       "         68.20167 ]], dtype=float32),\n",
       " array([[70.7, 56.2, 62.4, ..., 68.9, 71.7, 66.2],\n",
       "        [71.8, 58.6, 59.9, ..., 69.6, 72.7, 66.9],\n",
       "        [69.1, 58.5, 61.9, ..., 69.3, 71.9, 66. ],\n",
       "        ...,\n",
       "        [71.3, 66.6, 68.7, ..., 68.6, 71.6, 68.4],\n",
       "        [71.4, 66.9, 68.1, ..., 68.4, 71.6, 66.6],\n",
       "        [72.2, 66.5, 68. , ..., 68.7, 71.6, 68.4]]))"
      ]
     },
     "execution_count": 5,
     "metadata": {},
     "output_type": "execute_result"
    }
   ],
   "source": [
    "pred[10], label[10]"
   ]
  },
  {
   "cell_type": "code",
   "execution_count": 6,
   "metadata": {},
   "outputs": [
    {
     "name": "stdout",
     "output_type": "stream",
     "text": [
      "12 steps, 10419 data from 325 sensors.\n"
     ]
    }
   ],
   "source": [
    "pred.shape, label.shape \n",
    "print(f\"{pred.shape[0]} steps, {pred.shape[1]} data from {pred.shape[2]} sensors.\")"
   ]
  },
  {
   "cell_type": "markdown",
   "metadata": {},
   "source": [
    "# PART 2: Visualize Errors"
   ]
  },
  {
   "cell_type": "markdown",
   "metadata": {},
   "source": [
    "## Reshape"
   ]
  },
  {
   "cell_type": "code",
   "execution_count": 7,
   "metadata": {},
   "outputs": [
    {
     "name": "stdout",
     "output_type": "stream",
     "text": [
      "Shapes:\n",
      "\tpred: (40634100,)\n",
      "\tlabel:(40634100,)\n"
     ]
    }
   ],
   "source": [
    "# First reshape predictions and labels\n",
    "pred = pred.reshape((pred.shape[0]*pred.shape[1]*pred.shape[2],))\n",
    "label = label.reshape((label.shape[0]*label.shape[1]*label.shape[2],))\n",
    "\n",
    "# Print new shapes\n",
    "print(f\"Shapes:\\n\\tpred: {pred.shape}\\n\\tlabel:{label.shape}\")"
   ]
  },
  {
   "cell_type": "markdown",
   "metadata": {},
   "source": [
    "## Visualize Arrays"
   ]
  },
  {
   "cell_type": "code",
   "execution_count": 8,
   "metadata": {},
   "outputs": [
    {
     "data": {
      "text/plain": [
       "(array([72.58983 , 22.325436, 56.21264 , 33.52118 , 58.13172 ],\n",
       "       dtype=float32),\n",
       " array([70.9, 24.1, 54.4, 32.6, 62.5]))"
      ]
     },
     "execution_count": 8,
     "metadata": {},
     "output_type": "execute_result"
    }
   ],
   "source": [
    "pred[:5], label[:5]"
   ]
  },
  {
   "cell_type": "code",
   "execution_count": 9,
   "metadata": {},
   "outputs": [
    {
     "data": {
      "image/png": "[encoded data removed]",
      "text/plain": [
       "<Figure size 432x288 with 1 Axes>"
      ]
     },
     "metadata": {
      "needs_background": "light"
     },
     "output_type": "display_data"
    }
   ],
   "source": [
    "# Matplotlib \n",
    "N = np.arange(24)\n",
    "\n",
    "plt.plot(N, pred[:24], alpha=0.5)\n",
    "plt.plot(N, label[:24], alpha=0.5, color=\"red\")\n",
    "plt.show()"
   ]
  },
  {
   "cell_type": "markdown",
   "metadata": {},
   "source": [
    "# PART 3: Absolute Error"
   ]
  },
  {
   "cell_type": "code",
   "execution_count": 10,
   "metadata": {},
   "outputs": [
    {
     "data": {
      "text/plain": [
       "(40634100,)"
      ]
     },
     "execution_count": 10,
     "metadata": {},
     "output_type": "execute_result"
    }
   ],
   "source": [
    "absolute_error = np.abs(pred-label)\n",
    "absolute_error.shape"
   ]
  },
  {
   "cell_type": "code",
   "execution_count": 11,
   "metadata": {},
   "outputs": [
    {
     "data": {
      "text/plain": [
       "(40634100,)"
      ]
     },
     "execution_count": 11,
     "metadata": {},
     "output_type": "execute_result"
    }
   ],
   "source": [
    "squared_absolute_error = np.square(absolute_error)\n",
    "squared_absolute_error.shape"
   ]
  },
  {
   "cell_type": "code",
   "execution_count": 12,
   "metadata": {},
   "outputs": [],
   "source": [
    "sorted_squared_absolute_error = np.sort(squared_absolute_error)"
   ]
  },
  {
   "cell_type": "code",
   "execution_count": 13,
   "metadata": {},
   "outputs": [
    {
     "data": {
      "text/plain": [
       "array([0., 0., 0., 0., 0.])"
      ]
     },
     "execution_count": 13,
     "metadata": {},
     "output_type": "execute_result"
    }
   ],
   "source": [
    "sorted_absolute_error = np.sort(absolute_error)\n",
    "sorted_absolute_error[:5]"
   ]
  },
  {
   "cell_type": "code",
   "execution_count": 15,
   "metadata": {},
   "outputs": [
    {
     "data": {
      "image/png": "[encoded data removed]",
      "text/plain": [
       "<Figure size 720x720 with 1 Axes>"
      ]
     },
     "metadata": {
      "needs_background": "light"
     },
     "output_type": "display_data"
    }
   ],
   "source": [
    "LOWER = 0; UPPER = sorted_absolute_error.shape[0]\n",
    "plt.figure(figsize=(10, 10))\n",
    "plt.plot(np.arange(UPPER),sorted_absolute_error[LOWER:UPPER])\n",
    "plt.plot(np.arange(UPPER), sorted_squared_absolute_error[LOWER:UPPER])\n",
    "plt.suptitle('Absolute vs Squared')\n",
    "plt.show()"
   ]
  },
  {
   "cell_type": "code",
   "execution_count": 16,
   "metadata": {},
   "outputs": [
    {
     "data": {
      "image/png": "[encoded data removed]",
      "text/plain": [
       "<Figure size 720x720 with 1 Axes>"
      ]
     },
     "metadata": {
      "needs_background": "light"
     },
     "output_type": "display_data"
    }
   ],
   "source": [
    "if LOWER or UPPER: del LOWER; del UPPER\n",
    "LOWER = 20634100; UPPER = 30634100\n",
    "plt.figure(figsize=(10, 10))\n",
    "plt.plot(np.arange(UPPER-LOWER),sorted_absolute_error[LOWER:UPPER])\n",
    "plt.plot(np.arange(UPPER-LOWER), sorted_squared_absolute_error[LOWER:UPPER])\n",
    "plt.suptitle('Absolute vs Squared 2')\n",
    "plt.show()"
   ]
  },
  {
   "cell_type": "markdown",
   "metadata": {},
   "source": [
    "# PART 4: Measure the cardinality \n",
    "Measure the cardinality of those errors who are less than 1 and more than 1 for each group."
   ]
  },
  {
   "cell_type": "code",
   "execution_count": 17,
   "metadata": {},
   "outputs": [],
   "source": [
    "linear_less_than = np.size(sorted_absolute_error[sorted_absolute_error < 1]) \n",
    "linear_more_than = np.size(sorted_absolute_error[sorted_absolute_error > 1])\n",
    "exp_less_than = np.size(sorted_squared_absolute_error[sorted_squared_absolute_error < 1])\n",
    "exp_more_than = np.size(sorted_squared_absolute_error[sorted_squared_absolute_error > 1])"
   ]
  },
  {
   "cell_type": "code",
   "execution_count": 18,
   "metadata": {},
   "outputs": [
    {
     "data": {
      "text/plain": [
       "(24840258, 24840258, 15793825, 15793825)"
      ]
     },
     "execution_count": 18,
     "metadata": {},
     "output_type": "execute_result"
    }
   ],
   "source": [
    "linear_less_than, exp_less_than, linear_more_than, exp_more_than"
   ]
  },
  {
   "cell_type": "markdown",
   "metadata": {},
   "source": [
    "# PART 5: Calculate the integral\n",
    "\n",
    "If we calculate the areas between lines and compare the two sides we can comment."
   ]
  },
  {
   "cell_type": "code",
   "execution_count": 23,
   "metadata": {},
   "outputs": [],
   "source": [
    "BORDER = 24840258"
   ]
  },
  {
   "cell_type": "markdown",
   "metadata": {},
   "source": [
    "First calculate the area for the first part. Less than 1 part.  \n",
    "Then calculate the right of the crossing at 1."
   ]
  },
  {
   "cell_type": "code",
   "execution_count": 24,
   "metadata": {},
   "outputs": [
    {
     "data": {
      "text/plain": [
       "(4128555.1977146654, 502725267.72270626)"
      ]
     },
     "execution_count": 24,
     "metadata": {},
     "output_type": "execute_result"
    }
   ],
   "source": [
    "AREA_LEFT = np.sum(sorted_absolute_error[:BORDER] -sorted_squared_absolute_error[:BORDER]) # LINEAR > EXP WHEN LESS THAN 1\n",
    "AREA_RIGHT= np.sum(sorted_squared_absolute_error[BORDER:] - sorted_absolute_error[BORDER:]) # EXP > LINEAR WHEN MORE THAN 1\n",
    "AREA_LEFT, AREA_RIGHT"
   ]
  },
  {
   "cell_type": "code",
   "execution_count": 25,
   "metadata": {},
   "outputs": [
    {
     "data": {
      "text/plain": [
       "0.9917876513022379"
      ]
     },
     "execution_count": 25,
     "metadata": {},
     "output_type": "execute_result"
    }
   ],
   "source": [
    "DIFF_PERCENTAGE = (AREA_RIGHT - AREA_LEFT) / AREA_RIGHT\n",
    "DIFF_PERCENTAGE"
   ]
  },
  {
   "cell_type": "markdown",
   "metadata": {},
   "source": [
    "DTM: (24858951, 24858951, 15775135, 15775135)  \n",
    "BASE:(24840258, 24840258, 15793825, 15793825)\n",
    "\n",
    "DTM has 18693 more error, who are less than 1, compared to BASE.\n",
    "\n"
   ]
  },
  {
   "cell_type": "markdown",
   "metadata": {},
   "source": [
    "# PART 6: Calculate RMSE"
   ]
  },
  {
   "cell_type": "code",
   "execution_count": 26,
   "metadata": {},
   "outputs": [
    {
     "data": {
      "text/plain": [
       "563329207.7853793"
      ]
     },
     "execution_count": 26,
     "metadata": {},
     "output_type": "execute_result"
    }
   ],
   "source": [
    "mse = np.sum(sorted_squared_absolute_error)\n",
    "mse"
   ]
  },
  {
   "cell_type": "code",
   "execution_count": 28,
   "metadata": {},
   "outputs": [
    {
     "data": {
      "text/plain": [
       "3.7233667157217116"
      ]
     },
     "execution_count": 28,
     "metadata": {},
     "output_type": "execute_result"
    }
   ],
   "source": [
    "rmse = np.sqrt(np.divide(mse, np.size(sorted_squared_absolute_error)))\n",
    "rmse"
   ]
  },
  {
   "cell_type": "markdown",
   "metadata": {},
   "source": [
    "# PART 7: Max Errors"
   ]
  },
  {
   "cell_type": "code",
   "execution_count": 30,
   "metadata": {},
   "outputs": [
    {
     "data": {
      "text/plain": [
       "array([5157.69154444, 5161.38080649, 5169.91631679])"
      ]
     },
     "execution_count": 30,
     "metadata": {},
     "output_type": "execute_result"
    }
   ],
   "source": [
    "sorted_squared_absolute_error[-3:]"
   ]
  },
  {
   "cell_type": "code",
   "execution_count": 36,
   "metadata": {},
   "outputs": [
    {
     "data": {
      "text/plain": [
       "0.5103076183416707"
      ]
     },
     "execution_count": 36,
     "metadata": {},
     "output_type": "execute_result"
    }
   ],
   "source": [
    "rmse_first = np.sqrt(np.divide( np.sum(sorted_squared_absolute_error[:24840258]), np.size(sorted_squared_absolute_error[:24840258])))\n",
    "rmse_first"
   ]
  },
  {
   "cell_type": "code",
   "execution_count": 37,
   "metadata": {},
   "outputs": [
    {
     "data": {
      "text/plain": [
       "5.937854117473411"
      ]
     },
     "execution_count": 37,
     "metadata": {},
     "output_type": "execute_result"
    }
   ],
   "source": [
    "rmse_second = np.sqrt(np.divide( np.sum(sorted_squared_absolute_error[-15793825:]), np.size(sorted_squared_absolute_error[-15793825:])))\n",
    "rmse_second"
   ]
  },
  {
   "cell_type": "code",
   "execution_count": 35,
   "metadata": {},
   "outputs": [
    {
     "data": {
      "text/plain": [
       "52.20599345970854"
      ]
     },
     "execution_count": 35,
     "metadata": {},
     "output_type": "execute_result"
    }
   ],
   "source": [
    "rmse_last = np.sqrt(np.divide( np.sum(sorted_squared_absolute_error[-18690:]), np.size(sorted_squared_absolute_error[-18690:])))\n",
    "rmse_last"
   ]
  }
 ],
 "metadata": {
  "kernelspec": {
   "display_name": "Python 3.9.12 ('base')",
   "language": "python",
   "name": "python3"
  },
  "language_info": {
   "codemirror_mode": {
    "name": "ipython",
    "version": 3
   },
   "file_extension": ".py",
   "mimetype": "text/x-python",
   "name": "python",
   "nbconvert_exporter": "python",
   "pygments_lexer": "ipython3",
   "version": "3.9.12"
  },
  "orig_nbformat": 4,
  "vscode": {
   "interpreter": {
    "hash": "ce61fe788b3ae3a326d0a92be5e27a6f32e83a7bbb9880398b35c711a782d1b7"
   }
  }
 },
 "nbformat": 4,
 "nbformat_minor": 2
}
